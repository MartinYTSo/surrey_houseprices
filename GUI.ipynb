{
 "cells": [
  {
   "cell_type": "code",
   "execution_count": 109,
   "metadata": {},
   "outputs": [],
   "source": [
    "from tkinter import *\n",
    "import pickle"
   ]
  },
  {
   "cell_type": "code",
   "execution_count": 110,
   "metadata": {},
   "outputs": [
    {
     "data": {
      "text/plain": [
       "LinearRegression(copy_X=True, fit_intercept=True, n_jobs=None, normalize=False)"
      ]
     },
     "execution_count": 110,
     "metadata": {},
     "output_type": "execute_result"
    }
   ],
   "source": [
    "MODEL_PATH= \"models/multiple_reg.sav\"\n",
    "loaded_model=pickle.load(open(MODEL_PATH,'rb'))\n",
    "loaded_model"
   ]
  },
  {
   "cell_type": "code",
   "execution_count": 111,
   "metadata": {},
   "outputs": [],
   "source": [
    "#calculating price wrt input\n",
    "def calculate_price(arg):\n",
    "    res=loaded_model.predict([[sq.get(),bd.get(),bath.get()]])\n",
    "    price_label.config(text=\"Expected Price: $ {:,.2f}\".format(res[0][0]))\n"
   ]
  },
  {
   "cell_type": "code",
   "execution_count": 112,
   "metadata": {},
   "outputs": [
    {
     "data": {
      "text/plain": [
       "''"
      ]
     },
     "execution_count": 112,
     "metadata": {},
     "output_type": "execute_result"
    }
   ],
   "source": [
    "#make tkinter window\n",
    "master= Tk()\n",
    "master.geometry(\"700x500\")\n",
    "master.configure(background= '#000000')\n",
    "master.title(\"Price Estimator for Houses in Surrey, British Columbia, Canada\")"
   ]
  },
  {
   "cell_type": "code",
   "execution_count": 113,
   "metadata": {},
   "outputs": [],
   "source": [
    "#show estimate scale\n",
    "price_label = Label(master, bg='black', fg=\"white\", font=(\"Times\", 40, \"bold\"), text=\"Hello Tkinter!\")\n",
    "price_label.pack(padx=5, pady=20)"
   ]
  },
  {
   "cell_type": "code",
   "execution_count": 114,
   "metadata": {},
   "outputs": [],
   "source": [
    "#set values for square feet, beds, and bath\n",
    "sq = Scale(master, length=650, label=\"Square Feet\", bg='#665E5E', fg=\"white\", from_=0, to=2000, orient=HORIZONTAL , command=calculate_price)\n",
    "sq.set(500)\n",
    "sq.pack(padx=5, pady=5)\n",
    "\n",
    "bd = Scale(master, length=650, label=\"Beds\", bg='#665E5E', fg=\"white\",from_=0, to=10, orient=HORIZONTAL, command=calculate_price)\n",
    "bd.set(1)\n",
    "bd.pack(padx=5, pady=5)\n",
    "\n",
    "bath = Scale(master, length=650, label=\"Bath\", bg='#665E5E', fg=\"white\", from_=0, to=10, orient=HORIZONTAL, command=calculate_price)\n",
    "bath.set(1)\n",
    "bath.pack(padx=5, pady=5)"
   ]
  },
  {
   "cell_type": "code",
   "execution_count": 115,
   "metadata": {},
   "outputs": [],
   "source": [
    "mainloop()"
   ]
  },
  {
   "cell_type": "code",
   "execution_count": null,
   "metadata": {},
   "outputs": [],
   "source": []
  }
 ],
 "metadata": {
  "kernelspec": {
   "display_name": "Python 3",
   "language": "python",
   "name": "python3"
  },
  "language_info": {
   "codemirror_mode": {
    "name": "ipython",
    "version": 3
   },
   "file_extension": ".py",
   "mimetype": "text/x-python",
   "name": "python",
   "nbconvert_exporter": "python",
   "pygments_lexer": "ipython3",
   "version": "3.7.6"
  }
 },
 "nbformat": 4,
 "nbformat_minor": 4
}
